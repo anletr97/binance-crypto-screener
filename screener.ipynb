{
 "metadata": {
  "language_info": {
   "codemirror_mode": {
    "name": "ipython",
    "version": 3
   },
   "file_extension": ".py",
   "mimetype": "text/x-python",
   "name": "python",
   "nbconvert_exporter": "python",
   "pygments_lexer": "ipython3",
   "version": "3.8.7-final"
  },
  "orig_nbformat": 2,
  "kernelspec": {
   "name": "python3",
   "display_name": "Python 3.8.7 64-bit",
   "metadata": {
    "interpreter": {
     "hash": "e404b59586357c814bc0d3940e75d6763c00a48753b225b81f7716971b8e1741"
    }
   }
  }
 },
 "nbformat": 4,
 "nbformat_minor": 2,
 "cells": [
  {
   "cell_type": "code",
   "execution_count": null,
   "metadata": {
    "tags": []
   },
   "outputs": [],
   "source": [
    "import requests, time, re\n",
    "import pandas as pd\n",
    "import pickle as pkl\n",
    "import json\n",
    "\n",
    "# END_POINT = 'https://api.binance.com'\n",
    "# URL = 'https://api.binance.com/api/v3/ticker/price'\n",
    "\"\"\" START HERE \"\"\"\n",
    "SYMBOL_LIST_FILE_NAME = 'symbols.csv' \n",
    "\n",
    "\n",
    "\n",
    "# API get all exchange info but mostly is used to get all symbols in binance market\n",
    "URL1 = 'https://api.binance.com/api/v3/exchangeInfo'\n",
    "\n",
    "res = requests.get(URL1).json()\n",
    "\n",
    "\n",
    "\n",
    "# To understand the json structure of binance api's response\n",
    "# you should use postman first\n",
    "symbols = []\n",
    "# Fetch all symbols from binance market\n",
    "for el in res['symbols']:\n",
    "    symbol = el.['symbol']\n",
    "    symbols.append(symbol)"
   ]
  },
  {
   "cell_type": "code",
   "execution_count": null,
   "metadata": {},
   "outputs": [],
   "source": []
  }
 ]
}