{
 "metadata": {
  "language_info": {
   "codemirror_mode": {
    "name": "ipython",
    "version": 3
   },
   "file_extension": ".py",
   "mimetype": "text/x-python",
   "name": "python",
   "nbconvert_exporter": "python",
   "pygments_lexer": "ipython3",
   "version": "3.7.7-final"
  },
  "orig_nbformat": 2,
  "kernelspec": {
   "name": "python3",
   "display_name": "Python 3.7.7 64-bit",
   "metadata": {
    "interpreter": {
     "hash": "04635d289a519a1410467dd0afb0db42f9184808881ca68b2eb5a687a20a5a94"
    }
   }
  }
 },
 "nbformat": 4,
 "nbformat_minor": 2,
 "cells": [
  {
   "cell_type": "code",
   "execution_count": 1,
   "metadata": {
    "tags": []
   },
   "outputs": [
    {
     "output_type": "stream",
     "name": "stdout",
     "text": [
      "'symbols.csv' has been successfully created with 1318 symbols.\n",
      "[INFO ] Start Crawling last 24h price\n",
      "[INFO ] Start Crawling last 24h price\n",
      "[INFO ] Start Crawling last 24h price\n"
     ]
    },
    {
     "output_type": "execute_result",
     "data": {
      "text/plain": [
       "    symbol  priceChange  priceChangePercent  prevClosePrice  lastPrice  \\\n",
       "0   ETHBTC     0.000836               2.762        0.030270   0.031107   \n",
       "1   LTCBTC     0.000016               0.449        0.003565   0.003581   \n",
       "2   BNBBTC     0.000101               2.170        0.004670   0.004770   \n",
       "3   NEOBTC     0.000002               0.259        0.000774   0.000775   \n",
       "4  QTUMETH    -0.000218              -6.002        0.003633   0.003414   \n",
       "\n",
       "   openPrice  highPrice  lowPrice       volume       openTime      closeTime  \\\n",
       "0   0.030271   0.031681  0.029933   313761.909  1614494746851  1614581146851   \n",
       "1   0.003565   0.003691  0.003529   258678.340  1614494746748  1614581146748   \n",
       "2   0.004668   0.004935  0.004525  1064247.140  1614494746562  1614581146562   \n",
       "3   0.000773   0.000806  0.000737   300243.090  1614494746701  1614581146701   \n",
       "4   0.003632   0.003663  0.003401    33892.950  1614494737420  1614581137420   \n",
       "\n",
       "    count  \n",
       "0  338014  \n",
       "1   56868  \n",
       "2  285097  \n",
       "3   17430  \n",
       "4    1164  "
      ],
      "text/html": "<div>\n<style scoped>\n    .dataframe tbody tr th:only-of-type {\n        vertical-align: middle;\n    }\n\n    .dataframe tbody tr th {\n        vertical-align: top;\n    }\n\n    .dataframe thead th {\n        text-align: right;\n    }\n</style>\n<table border=\"1\" class=\"dataframe\">\n  <thead>\n    <tr style=\"text-align: right;\">\n      <th></th>\n      <th>symbol</th>\n      <th>priceChange</th>\n      <th>priceChangePercent</th>\n      <th>prevClosePrice</th>\n      <th>lastPrice</th>\n      <th>openPrice</th>\n      <th>highPrice</th>\n      <th>lowPrice</th>\n      <th>volume</th>\n      <th>openTime</th>\n      <th>closeTime</th>\n      <th>count</th>\n    </tr>\n  </thead>\n  <tbody>\n    <tr>\n      <th>0</th>\n      <td>ETHBTC</td>\n      <td>0.000836</td>\n      <td>2.762</td>\n      <td>0.030270</td>\n      <td>0.031107</td>\n      <td>0.030271</td>\n      <td>0.031681</td>\n      <td>0.029933</td>\n      <td>313761.909</td>\n      <td>1614494746851</td>\n      <td>1614581146851</td>\n      <td>338014</td>\n    </tr>\n    <tr>\n      <th>1</th>\n      <td>LTCBTC</td>\n      <td>0.000016</td>\n      <td>0.449</td>\n      <td>0.003565</td>\n      <td>0.003581</td>\n      <td>0.003565</td>\n      <td>0.003691</td>\n      <td>0.003529</td>\n      <td>258678.340</td>\n      <td>1614494746748</td>\n      <td>1614581146748</td>\n      <td>56868</td>\n    </tr>\n    <tr>\n      <th>2</th>\n      <td>BNBBTC</td>\n      <td>0.000101</td>\n      <td>2.170</td>\n      <td>0.004670</td>\n      <td>0.004770</td>\n      <td>0.004668</td>\n      <td>0.004935</td>\n      <td>0.004525</td>\n      <td>1064247.140</td>\n      <td>1614494746562</td>\n      <td>1614581146562</td>\n      <td>285097</td>\n    </tr>\n    <tr>\n      <th>3</th>\n      <td>NEOBTC</td>\n      <td>0.000002</td>\n      <td>0.259</td>\n      <td>0.000774</td>\n      <td>0.000775</td>\n      <td>0.000773</td>\n      <td>0.000806</td>\n      <td>0.000737</td>\n      <td>300243.090</td>\n      <td>1614494746701</td>\n      <td>1614581146701</td>\n      <td>17430</td>\n    </tr>\n    <tr>\n      <th>4</th>\n      <td>QTUMETH</td>\n      <td>-0.000218</td>\n      <td>-6.002</td>\n      <td>0.003633</td>\n      <td>0.003414</td>\n      <td>0.003632</td>\n      <td>0.003663</td>\n      <td>0.003401</td>\n      <td>33892.950</td>\n      <td>1614494737420</td>\n      <td>1614581137420</td>\n      <td>1164</td>\n    </tr>\n  </tbody>\n</table>\n</div>"
     },
     "metadata": {},
     "execution_count": 1
    }
   ],
   "source": [
    "import requests, time, re\n",
    "import pandas as pd\n",
    "import csv\n",
    "import pickle as pkl\n",
    "import json\n",
    "from datetime import datetime, timezone\n",
    "\n",
    "import binance_tasks\n",
    "\n",
    "\"\"\" START HERE \"\"\"\n",
    "files = binance_tasks.crawl_24h_price()\n",
    "\n",
    "# columns\n",
    "cols = ['symbol', 'priceChange', 'priceChangePercent','prevClosePrice', 'lastPrice',\n",
    "        'openPrice', 'highPrice', 'lowPrice', 'volume', 'openTime', 'closeTime', 'count']\n",
    "# files \n",
    "for file in files:\n",
    "    data = pd.read_csv(file.name)\n",
    "    df = pd.DataFrame(data, columns=cols)\n",
    "df.head()\n"
   ]
  },
  {
   "cell_type": "code",
   "execution_count": 2,
   "metadata": {},
   "outputs": [],
   "source": [
    "# Format date/time from timestamps to date/time string\n",
    "df['openTime'] = pd.to_datetime(df['openTime'], unit='ms')\n",
    "df['closeTime'] = pd.to_datetime(df['closeTime'], unit='ms')"
   ]
  },
  {
   "cell_type": "code",
   "execution_count": 3,
   "metadata": {},
   "outputs": [
    {
     "output_type": "execute_result",
     "data": {
      "text/plain": [
       "      symbol  priceChange  priceChangePercent  prevClosePrice    lastPrice  \\\n",
       "787  BTCIDRT   13966256.0               2.121     661770329.0  672541456.0   \n",
       "\n",
       "       openPrice    highPrice     lowPrice    volume                openTime  \\\n",
       "787  658575200.0  689371092.0  637849118.0  3.681093 2021-02-28 06:45:45.120   \n",
       "\n",
       "                  closeTime  count  \n",
       "787 2021-03-01 06:45:45.120   1671  "
      ],
      "text/html": "<div>\n<style scoped>\n    .dataframe tbody tr th:only-of-type {\n        vertical-align: middle;\n    }\n\n    .dataframe tbody tr th {\n        vertical-align: top;\n    }\n\n    .dataframe thead th {\n        text-align: right;\n    }\n</style>\n<table border=\"1\" class=\"dataframe\">\n  <thead>\n    <tr style=\"text-align: right;\">\n      <th></th>\n      <th>symbol</th>\n      <th>priceChange</th>\n      <th>priceChangePercent</th>\n      <th>prevClosePrice</th>\n      <th>lastPrice</th>\n      <th>openPrice</th>\n      <th>highPrice</th>\n      <th>lowPrice</th>\n      <th>volume</th>\n      <th>openTime</th>\n      <th>closeTime</th>\n      <th>count</th>\n    </tr>\n  </thead>\n  <tbody>\n    <tr>\n      <th>787</th>\n      <td>BTCIDRT</td>\n      <td>13966256.0</td>\n      <td>2.121</td>\n      <td>661770329.0</td>\n      <td>672541456.0</td>\n      <td>658575200.0</td>\n      <td>689371092.0</td>\n      <td>637849118.0</td>\n      <td>3.681093</td>\n      <td>2021-02-28 06:45:45.120</td>\n      <td>2021-03-01 06:45:45.120</td>\n      <td>1671</td>\n    </tr>\n  </tbody>\n</table>\n</div>"
     },
     "metadata": {},
     "execution_count": 3
    }
   ],
   "source": [
    "df_max = df[df['highPrice'] == df['highPrice'].max()]\n",
    "df_max.head()"
   ]
  },
  {
   "cell_type": "code",
   "execution_count": 4,
   "metadata": {},
   "outputs": [
    {
     "output_type": "execute_result",
     "data": {
      "text/plain": [
       "            symbol  priceChange  priceChangePercent  prevClosePrice  \\\n",
       "1188  AAVEDOWNUSDT    -0.000185             -34.644        0.000534   \n",
       "\n",
       "      lastPrice  openPrice  highPrice  lowPrice        volume  \\\n",
       "1188   0.000349   0.000534   0.000585  0.000307  1.111969e+10   \n",
       "\n",
       "                    openTime               closeTime  count  \n",
       "1188 2021-02-28 06:45:44.928 2021-03-01 06:45:44.928  60054  "
      ],
      "text/html": "<div>\n<style scoped>\n    .dataframe tbody tr th:only-of-type {\n        vertical-align: middle;\n    }\n\n    .dataframe tbody tr th {\n        vertical-align: top;\n    }\n\n    .dataframe thead th {\n        text-align: right;\n    }\n</style>\n<table border=\"1\" class=\"dataframe\">\n  <thead>\n    <tr style=\"text-align: right;\">\n      <th></th>\n      <th>symbol</th>\n      <th>priceChange</th>\n      <th>priceChangePercent</th>\n      <th>prevClosePrice</th>\n      <th>lastPrice</th>\n      <th>openPrice</th>\n      <th>highPrice</th>\n      <th>lowPrice</th>\n      <th>volume</th>\n      <th>openTime</th>\n      <th>closeTime</th>\n      <th>count</th>\n    </tr>\n  </thead>\n  <tbody>\n    <tr>\n      <th>1188</th>\n      <td>AAVEDOWNUSDT</td>\n      <td>-0.000185</td>\n      <td>-34.644</td>\n      <td>0.000534</td>\n      <td>0.000349</td>\n      <td>0.000534</td>\n      <td>0.000585</td>\n      <td>0.000307</td>\n      <td>1.111969e+10</td>\n      <td>2021-02-28 06:45:44.928</td>\n      <td>2021-03-01 06:45:44.928</td>\n      <td>60054</td>\n    </tr>\n  </tbody>\n</table>\n</div>"
     },
     "metadata": {},
     "execution_count": 4
    }
   ],
   "source": [
    "df_max_down_percent = df[df['priceChangePercent'] == df['priceChangePercent'].min()]\n",
    "df_max_down_percent.head()"
   ]
  },
  {
   "cell_type": "code",
   "execution_count": null,
   "metadata": {},
   "outputs": [],
   "source": []
  }
 ]
}