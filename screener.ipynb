{
 "metadata": {
  "language_info": {
   "codemirror_mode": {
    "name": "ipython",
    "version": 3
   },
   "file_extension": ".py",
   "mimetype": "text/x-python",
   "name": "python",
   "nbconvert_exporter": "python",
   "pygments_lexer": "ipython3",
   "version": "3.7.7-final"
  },
  "orig_nbformat": 2,
  "kernelspec": {
   "name": "python3",
   "display_name": "Python 3.7.7 64-bit",
   "metadata": {
    "interpreter": {
     "hash": "04635d289a519a1410467dd0afb0db42f9184808881ca68b2eb5a687a20a5a94"
    }
   }
  }
 },
 "nbformat": 4,
 "nbformat_minor": 2,
 "cells": [
  {
   "cell_type": "code",
   "execution_count": 11,
   "metadata": {
    "tags": []
   },
   "outputs": [
    {
     "output_type": "stream",
     "name": "stdout",
     "text": [
      "[INFO ] Start Crawling last 24h price\n",
      "[INFO ] Finish Crawling last 24h price 'Last_24h_price_2021_03_01.csv' has been successfully created for 1318 symbols.\n"
     ]
    },
    {
     "output_type": "execute_result",
     "data": {
      "text/plain": [
       "    symbol  priceChange  priceChangePercent  prevClosePrice  lastPrice  \\\n",
       "0   ETHBTC    -0.000577              -1.827        0.031578   0.031001   \n",
       "1   LTCBTC    -0.000073              -1.991        0.003666   0.003593   \n",
       "2   BNBBTC    -0.000011              -0.218        0.004857   0.004847   \n",
       "3   NEOBTC    -0.000001              -0.127        0.000790   0.000788   \n",
       "4  QTUMETH    -0.000051              -1.437        0.003551   0.003497   \n",
       "\n",
       "   openPrice  highPrice  lowPrice       volume       openTime      closeTime  \\\n",
       "0   0.031578   0.031681  0.029933   345970.269  1614480546724  1614566946724   \n",
       "1   0.003666   0.003691  0.003520   340812.120  1614480546664  1614566946664   \n",
       "2   0.004858   0.004876  0.004525  1152118.570  1614480546627  1614566946627   \n",
       "3   0.000789   0.000806  0.000737   323289.930  1614480546679  1614566946679   \n",
       "4   0.003548   0.003663  0.003408    39312.740  1614480522946  1614566922946   \n",
       "\n",
       "    count  \n",
       "0  380648  \n",
       "1   69822  \n",
       "2  288124  \n",
       "3   18880  \n",
       "4    1284  "
      ],
      "text/html": "<div>\n<style scoped>\n    .dataframe tbody tr th:only-of-type {\n        vertical-align: middle;\n    }\n\n    .dataframe tbody tr th {\n        vertical-align: top;\n    }\n\n    .dataframe thead th {\n        text-align: right;\n    }\n</style>\n<table border=\"1\" class=\"dataframe\">\n  <thead>\n    <tr style=\"text-align: right;\">\n      <th></th>\n      <th>symbol</th>\n      <th>priceChange</th>\n      <th>priceChangePercent</th>\n      <th>prevClosePrice</th>\n      <th>lastPrice</th>\n      <th>openPrice</th>\n      <th>highPrice</th>\n      <th>lowPrice</th>\n      <th>volume</th>\n      <th>openTime</th>\n      <th>closeTime</th>\n      <th>count</th>\n    </tr>\n  </thead>\n  <tbody>\n    <tr>\n      <th>0</th>\n      <td>ETHBTC</td>\n      <td>-0.000577</td>\n      <td>-1.827</td>\n      <td>0.031578</td>\n      <td>0.031001</td>\n      <td>0.031578</td>\n      <td>0.031681</td>\n      <td>0.029933</td>\n      <td>345970.269</td>\n      <td>1614480546724</td>\n      <td>1614566946724</td>\n      <td>380648</td>\n    </tr>\n    <tr>\n      <th>1</th>\n      <td>LTCBTC</td>\n      <td>-0.000073</td>\n      <td>-1.991</td>\n      <td>0.003666</td>\n      <td>0.003593</td>\n      <td>0.003666</td>\n      <td>0.003691</td>\n      <td>0.003520</td>\n      <td>340812.120</td>\n      <td>1614480546664</td>\n      <td>1614566946664</td>\n      <td>69822</td>\n    </tr>\n    <tr>\n      <th>2</th>\n      <td>BNBBTC</td>\n      <td>-0.000011</td>\n      <td>-0.218</td>\n      <td>0.004857</td>\n      <td>0.004847</td>\n      <td>0.004858</td>\n      <td>0.004876</td>\n      <td>0.004525</td>\n      <td>1152118.570</td>\n      <td>1614480546627</td>\n      <td>1614566946627</td>\n      <td>288124</td>\n    </tr>\n    <tr>\n      <th>3</th>\n      <td>NEOBTC</td>\n      <td>-0.000001</td>\n      <td>-0.127</td>\n      <td>0.000790</td>\n      <td>0.000788</td>\n      <td>0.000789</td>\n      <td>0.000806</td>\n      <td>0.000737</td>\n      <td>323289.930</td>\n      <td>1614480546679</td>\n      <td>1614566946679</td>\n      <td>18880</td>\n    </tr>\n    <tr>\n      <th>4</th>\n      <td>QTUMETH</td>\n      <td>-0.000051</td>\n      <td>-1.437</td>\n      <td>0.003551</td>\n      <td>0.003497</td>\n      <td>0.003548</td>\n      <td>0.003663</td>\n      <td>0.003408</td>\n      <td>39312.740</td>\n      <td>1614480522946</td>\n      <td>1614566922946</td>\n      <td>1284</td>\n    </tr>\n  </tbody>\n</table>\n</div>"
     },
     "metadata": {},
     "execution_count": 11
    }
   ],
   "source": [
    "import requests, time, re\n",
    "import pandas as pd\n",
    "import csv\n",
    "import pickle as pkl\n",
    "import json\n",
    "from datetime import datetime, timezone\n",
    "\n",
    "import binance_tasks\n",
    "\n",
    "\"\"\" START HERE \"\"\"\n",
    "files = binance_tasks.crawl_24h_price()\n",
    "# columns\n",
    "cols = ['symbol', 'priceChange', 'priceChangePercent','prevClosePrice', 'lastPrice',\n",
    "        'openPrice', 'highPrice', 'lowPrice', 'volume', 'openTime', 'closeTime', 'count']\n",
    "\n",
    "for file in files:\n",
    "    data = pd.read_csv(file.name)\n",
    "    df = pd.DataFrame(data, columns=cols)\n",
    "df.head()\n"
   ]
  },
  {
   "cell_type": "code",
   "execution_count": 34,
   "metadata": {},
   "outputs": [],
   "source": [
    "# Format date/time from timestamps to date/time string\n",
    "df['openTime'] = pd.to_datetime(df['openTime'], unit='ms')\n",
    "df['closeTime'] = pd.to_datetime(df['closeTime'], unit='ms')"
   ]
  },
  {
   "cell_type": "code",
   "execution_count": 35,
   "metadata": {},
   "outputs": [
    {
     "output_type": "execute_result",
     "data": {
      "text/plain": [
       "      symbol  priceChange  priceChangePercent  prevClosePrice    lastPrice  \\\n",
       "787  BTCIDRT   13284126.0               1.983     670090640.0  683143683.0   \n",
       "\n",
       "       openPrice    highPrice     lowPrice    volume                openTime  \\\n",
       "787  669859557.0  689371092.0  637849118.0  4.045193 2021-02-28 02:48:57.095   \n",
       "\n",
       "                  closeTime  count  \n",
       "787 2021-03-01 02:48:57.095   1890  "
      ],
      "text/html": "<div>\n<style scoped>\n    .dataframe tbody tr th:only-of-type {\n        vertical-align: middle;\n    }\n\n    .dataframe tbody tr th {\n        vertical-align: top;\n    }\n\n    .dataframe thead th {\n        text-align: right;\n    }\n</style>\n<table border=\"1\" class=\"dataframe\">\n  <thead>\n    <tr style=\"text-align: right;\">\n      <th></th>\n      <th>symbol</th>\n      <th>priceChange</th>\n      <th>priceChangePercent</th>\n      <th>prevClosePrice</th>\n      <th>lastPrice</th>\n      <th>openPrice</th>\n      <th>highPrice</th>\n      <th>lowPrice</th>\n      <th>volume</th>\n      <th>openTime</th>\n      <th>closeTime</th>\n      <th>count</th>\n    </tr>\n  </thead>\n  <tbody>\n    <tr>\n      <th>787</th>\n      <td>BTCIDRT</td>\n      <td>13284126.0</td>\n      <td>1.983</td>\n      <td>670090640.0</td>\n      <td>683143683.0</td>\n      <td>669859557.0</td>\n      <td>689371092.0</td>\n      <td>637849118.0</td>\n      <td>4.045193</td>\n      <td>2021-02-28 02:48:57.095</td>\n      <td>2021-03-01 02:48:57.095</td>\n      <td>1890</td>\n    </tr>\n  </tbody>\n</table>\n</div>"
     },
     "metadata": {},
     "execution_count": 35
    }
   ],
   "source": [
    "df_max = df[df['highPrice'] == df['highPrice'].max()]\n",
    "df_max.head()"
   ]
  },
  {
   "cell_type": "code",
   "execution_count": 36,
   "metadata": {},
   "outputs": [
    {
     "output_type": "execute_result",
     "data": {
      "text/plain": [
       "            symbol  priceChange  priceChangePercent  prevClosePrice  \\\n",
       "1188  AAVEDOWNUSDT    -0.000187             -37.177        0.000504   \n",
       "\n",
       "      lastPrice  openPrice  highPrice  lowPrice        volume  \\\n",
       "1188   0.000316   0.000503   0.000588  0.000307  1.015372e+10   \n",
       "\n",
       "                    openTime               closeTime  count  \n",
       "1188 2021-02-28 02:49:05.480 2021-03-01 02:49:05.480  54790  "
      ],
      "text/html": "<div>\n<style scoped>\n    .dataframe tbody tr th:only-of-type {\n        vertical-align: middle;\n    }\n\n    .dataframe tbody tr th {\n        vertical-align: top;\n    }\n\n    .dataframe thead th {\n        text-align: right;\n    }\n</style>\n<table border=\"1\" class=\"dataframe\">\n  <thead>\n    <tr style=\"text-align: right;\">\n      <th></th>\n      <th>symbol</th>\n      <th>priceChange</th>\n      <th>priceChangePercent</th>\n      <th>prevClosePrice</th>\n      <th>lastPrice</th>\n      <th>openPrice</th>\n      <th>highPrice</th>\n      <th>lowPrice</th>\n      <th>volume</th>\n      <th>openTime</th>\n      <th>closeTime</th>\n      <th>count</th>\n    </tr>\n  </thead>\n  <tbody>\n    <tr>\n      <th>1188</th>\n      <td>AAVEDOWNUSDT</td>\n      <td>-0.000187</td>\n      <td>-37.177</td>\n      <td>0.000504</td>\n      <td>0.000316</td>\n      <td>0.000503</td>\n      <td>0.000588</td>\n      <td>0.000307</td>\n      <td>1.015372e+10</td>\n      <td>2021-02-28 02:49:05.480</td>\n      <td>2021-03-01 02:49:05.480</td>\n      <td>54790</td>\n    </tr>\n  </tbody>\n</table>\n</div>"
     },
     "metadata": {},
     "execution_count": 36
    }
   ],
   "source": [
    "df_max_down_percent = df[df['priceChangePercent'] == df['priceChangePercent'].min()]\n",
    "df_max_down_percent.head()"
   ]
  },
  {
   "cell_type": "code",
   "execution_count": null,
   "metadata": {},
   "outputs": [],
   "source": []
  }
 ]
}